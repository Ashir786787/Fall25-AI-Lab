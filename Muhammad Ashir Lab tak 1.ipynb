{
 "cells": [
  {
   "cell_type": "markdown",
   "id": "96a75f22",
   "metadata": {},
   "source": [
    "Name: Muhammad Ashir\n",
    "\n",
    "Roll No: 053"
   ]
  },
  {
   "cell_type": "code",
   "execution_count": 1,
   "id": "7375f2bd",
   "metadata": {},
   "outputs": [],
   "source": [
    "# To-Do List using OOP\n",
    "\n",
    "class ToDoList:\n",
    "  def __init__(self):\n",
    "    self.tasks = []\n",
    "\n",
    "  def add_task(self, task):\n",
    "    self.tasks.append(task)\n",
    "\n",
    "  def show_tasks(self):\n",
    "    if not self.tasks:\n",
    "      print(\"No tasks yet!\")\n",
    "    else:\n",
    "      print(\"\\nYour Tasks:\")\n",
    "      for i, t in enumerate(self.tasks, 1):\n",
    "        print(i, \"-\", t)\n",
    "\n",
    "  def remove_task(self, number):\n",
    "    if 0 < number <= len(self.tasks):\n",
    "      print(\"Removed:\", self.tasks.pop(number - 1))\n",
    "    else:\n",
    "     print(\"Invalid number!\")"
   ]
  },
  {
   "cell_type": "code",
   "execution_count": 7,
   "id": "7232e890",
   "metadata": {},
   "outputs": [
    {
     "name": "stdout",
     "output_type": "stream",
     "text": [
      "\n",
      "--- TO-DO LIST ---\n",
      "1. Add Task\n",
      "2. View Tasks\n",
      "3. Remove Task\n",
      "4. Exit\n",
      "\n",
      "--- TO-DO LIST ---\n",
      "1. Add Task\n",
      "2. View Tasks\n",
      "3. Remove Task\n",
      "4. Exit\n",
      "\n",
      "--- TO-DO LIST ---\n",
      "1. Add Task\n",
      "2. View Tasks\n",
      "3. Remove Task\n",
      "4. Exit\n",
      "\n",
      "Your Tasks:\n",
      "1 - 1\n",
      "2 - \n",
      "\n",
      "--- TO-DO LIST ---\n",
      "1. Add Task\n",
      "2. View Tasks\n",
      "3. Remove Task\n",
      "4. Exit\n",
      "Invalid number!\n",
      "\n",
      "--- TO-DO LIST ---\n",
      "1. Add Task\n",
      "2. View Tasks\n",
      "3. Remove Task\n",
      "4. Exit\n",
      "Goodbye!\n"
     ]
    }
   ],
   "source": [
    "# Run To-Do List\n",
    "todo = ToDoList()\n",
    "\n",
    "while True:\n",
    "  print(\"\\n--- TO-DO LIST ---\")\n",
    "  print(\"1. Add Task\")\n",
    "  print(\"2. View Tasks\")\n",
    "  print(\"3. Remove Task\")\n",
    "  print(\"4. Exit\")\n",
    "\n",
    "  choice = input(\"Enter choice: \")\n",
    "\n",
    "  if choice == '1':\n",
    "    todo.add_task(input(\"Enter task: \"))\n",
    "  elif choice == '2':\n",
    "    todo.show_tasks()\n",
    "  elif choice == '3':\n",
    "    num = int(input(\"Enter task number: \"))\n",
    "    todo.remove_task(num)\n",
    "  elif choice == '4':\n",
    "    print(\"Goodbye!\")\n",
    "    break\n",
    "  else:\n",
    "    print(\"Invalid choice!\")\n"
   ]
  },
  {
   "cell_type": "code",
   "execution_count": null,
   "id": "142588f5",
   "metadata": {},
   "outputs": [],
   "source": []
  },
  {
   "cell_type": "code",
   "execution_count": null,
   "id": "ad558c47",
   "metadata": {},
   "outputs": [],
   "source": []
  }
 ],
 "metadata": {
  "kernelspec": {
   "display_name": "Python 3",
   "language": "python",
   "name": "python3"
  },
  "language_info": {
   "codemirror_mode": {
    "name": "ipython",
    "version": 3
   },
   "file_extension": ".py",
   "mimetype": "text/x-python",
   "name": "python",
   "nbconvert_exporter": "python",
   "pygments_lexer": "ipython3",
   "version": "3.13.3"
  }
 },
 "nbformat": 4,
 "nbformat_minor": 5
}
