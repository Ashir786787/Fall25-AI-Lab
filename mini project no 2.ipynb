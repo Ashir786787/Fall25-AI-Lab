{
 "cells": [
  {
   "cell_type": "code",
   "execution_count": 8,
   "id": "88db882b",
   "metadata": {},
   "outputs": [],
   "source": [
    "movies = [ \n",
    "(\"Eternal Sunshine of the Spotless Mind\", 20000000), \n",
    "(\"Memento\", 9000000), \n",
    "(\"Requiem for a Dream\", 4500000), \n",
    "(\"Pirates of the Caribbean: On Stranger Tides\", 379000000), \n",
    "(\"Avengers: Age of Ultron\", 365000000), \n",
    "(\"Avengers: Endgame\", 356000000), \n",
    "(\"Incredibles 2\", 200000000) \n",
    "]"
   ]
  },
  {
   "cell_type": "code",
   "execution_count": 11,
   "id": "4b5dc5f3",
   "metadata": {},
   "outputs": [
    {
     "name": "stdout",
     "output_type": "stream",
     "text": [
      "Pirates of the Caribbean: On Stranger Tides cost $379,000,000 : $188,500,000.0 over average.\n",
      "Avengers: Age of Ultron cost $365,000,000 : $174,500,000.0 over average.\n",
      "Avengers: Endgame cost $356,000,000 : $165,500,000.0 over average.\n",
      "Incredibles 2 cost $200,000,000 : $9,500,000.0 over average.\n",
      "There were 4 movies with over average budgets.\n"
     ]
    }
   ],
   "source": [
    "high_budget_movies = []\n",
    "total_budget = 0\n",
    "\n",
    "\n",
    "for movie in movies:\n",
    "    total_budget = total_budget + movie[1]\n",
    "\n",
    "average_budget = total_budget / len(movies)\n",
    "\n",
    "for movie in movies:\n",
    "    if movie[1] > average_budget:\n",
    "        high_budget_movies.append(movie)\n",
    "        over_average_cost = movie[1] - average_budget\n",
    "        print(f\"{movie[0]} cost ${movie[1]:,} : ${over_average_cost:,} over average.\")\n",
    "\n",
    "print(f\"There were {len(high_budget_movies)} movies with over average budgets.\")"
   ]
  },
  {
   "cell_type": "code",
   "execution_count": null,
   "id": "55d9cb68",
   "metadata": {},
   "outputs": [],
   "source": []
  }
 ],
 "metadata": {
  "kernelspec": {
   "display_name": "Python 3",
   "language": "python",
   "name": "python3"
  },
  "language_info": {
   "codemirror_mode": {
    "name": "ipython",
    "version": 3
   },
   "file_extension": ".py",
   "mimetype": "text/x-python",
   "name": "python",
   "nbconvert_exporter": "python",
   "pygments_lexer": "ipython3",
   "version": "3.13.3"
  }
 },
 "nbformat": 4,
 "nbformat_minor": 5
}
