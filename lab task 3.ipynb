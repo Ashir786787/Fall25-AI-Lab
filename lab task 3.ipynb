{
 "cells": [
  {
   "cell_type": "code",
   "execution_count": 2,
   "id": "50d80cfa",
   "metadata": {},
   "outputs": [],
   "source": [
    "class ModelBasedReflexAgent:\n",
    "    def __init__(self):\n",
    "        self.previous_action = None  \n",
    "    def decide(self, temperature, threshold=25):\n",
    "        if temperature < threshold and self.previous_action != \"ON\":\n",
    "            self.previous_action = \"ON\"\n",
    "            return \"Turn Heater ON\"\n",
    "        elif temperature >= threshold and self.previous_action != \"OFF\":\n",
    "            self.previous_action = \"OFF\"\n",
    "            return \"Turn Heater OFF\"\n",
    "        else:\n",
    "            return \"No Action (keep as is)\""
   ]
  },
  {
   "cell_type": "code",
   "execution_count": null,
   "id": "f37fee3b",
   "metadata": {},
   "outputs": [
    {
     "name": "stdout",
     "output_type": "stream",
     "text": [
      "Temperature: 20°C --> Turn Heater ON\n",
      "Temperature: 22°C --> No Action (keep as is)\n",
      "Temperature: 24°C --> No Action (keep as is)\n",
      "Temperature: 26°C --> Turn Heater OFF\n",
      "Temperature: 28°C --> No Action (keep as is)\n",
      "Temperature: 23°C --> Turn Heater ON\n",
      "Temperature: 21°C --> No Action (keep as is)\n",
      "Temperature: 25°C --> Turn Heater OFF\n",
      "Temperature: 27°C --> No Action (keep as is)\n"
     ]
    }
   ],
   "source": [
    "agent = ModelBasedReflexAgent()\n",
    "temperatures = [20, 22, 24, 26, 28, 23, 21, 25, 27] \n",
    "for t in temperatures:\n",
    "    action = agent.decide(t)\n",
    "    print(f\"Temperature: {t}°C --> {action}\")"
   ]
  },
  {
   "cell_type": "code",
   "execution_count": null,
   "id": "61c9f4bf",
   "metadata": {},
   "outputs": [],
   "source": []
  }
 ],
 "metadata": {
  "kernelspec": {
   "display_name": "Python 3",
   "language": "python",
   "name": "python3"
  },
  "language_info": {
   "codemirror_mode": {
    "name": "ipython",
    "version": 3
   },
   "file_extension": ".py",
   "mimetype": "text/x-python",
   "name": "python",
   "nbconvert_exporter": "python",
   "pygments_lexer": "ipython3",
   "version": "3.13.3"
  }
 },
 "nbformat": 4,
 "nbformat_minor": 5
}
